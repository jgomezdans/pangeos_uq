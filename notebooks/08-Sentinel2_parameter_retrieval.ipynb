{
 "cells": [
  {
   "cell_type": "markdown",
   "id": "3b0102f3",
   "metadata": {},
   "source": [
    "<div style=\"float:right\">\n",
    "    <table>\n",
    "    <tr>\n",
    "        <td> <img src=\"../figs/pangeos-small-1.png\" alt=\"PANGEOS\" style=\"width:200px;height:45px;\"/> \n",
    "        <td> <img src=\"../figs/kcl_logo.png\" alt=\"King's College London\" style=\"width:54px;height:40px;\"/> \n",
    "        <td> <img src=\"../figs/nceo_logo.png\" alt=\"NCEO\" style=\"width:200px;height:40px;\"/> \n",
    "        <td> <img src=\"../figs/multiply_logo.png\" alt=\"H2020 Multiply\" style=\"width:40px;height:40px;\"/>\n",
    "    </tr>\n",
    "    </table>\n",
    "</div>\n",
    "&nbsp;"
   ]
  },
  {
   "cell_type": "markdown",
   "id": "10726967",
   "metadata": {},
   "source": [
    "# Biophysical parameter retrieval from Sentinel 2-like data\n",
    "\n",
    "Author: J Gómez-Dans (`jose.gomez-dans@kcl.ac.uk`)\n",
    "\n",
    "This notebook demonstrates the effect of different sources of uncertainty in biophysical parameter retrievals. Biophysical parameter retrieval is a so-called *inverse problem:* while we have a bunch of radiative transfer (RT) models that allow us to predict optical (and/or thermal, SIF or microwave) observations, we are often interested in the opposite problem: retrieve parameters of interest from EO observations.\n",
    "\n",
    "In this notebooks, we assume that the PROSAIL model is adequate for our goals. The assumption of a continuous canopy is often met for grasslands and mature cereal/grassy crops, but it's probably a stretch for forests. \n",
    "You should carefully evaluate the assumptions of your model prior to using it!\n",
    "\n",
    "## Data modelling\n",
    "\n",
    "We will try to model a realistic acquisition scenario, and we will try to simulate some of the processes that affect the data gathered by a spaceborne sensor. Due to its wide availability and general excellent performance, we will focus on Sentinel 2, but note that you could easily modify this to work on other sensors.\n",
    "\n",
    "The procedure is as follows:\n",
    "1. Simulate *true* surface reflectance using the PROSAIL model (use 9 S2 bands)\n",
    "2. Propagate the true surface reflectance to top of the atmosphere, and add some (thermal) noise.\n",
    "3. Perform an uncertaint atmospheric correction to retrieve surface reflectance.\n",
    "4. Invert the PROSAIL model taking into account the uncertainties, using different prior constraints.\n",
    "5. Visualise spectra, uncertainties and parameters\n",
    "\n",
    "### Data simulation\n",
    "\n",
    "We will start by using the PROSAIL model (PROSPECT-D and SAIL) to perform a simulaiton of reflectance in 400-2500 nm range. This will then be integrated over the Sentinel 2 land bands.\n",
    "\n",
    "### Propagate to top of the atmosphere\n",
    "\n",
    "Assuming a Lambertian surface-atmospheric coupling for simplicity, we wil use estimates of aersol optical thickness and total column water vapour to propagate the surface measurements to TOA. This is done via a look up table previoulsy created using the 6s model. At this point, we have propagated the measurements, but there is no uncertainty. We will also add at this stage some noise, given as a percentage (and identical for all bands)\n",
    "\n",
    "### Uncertain atmospheric correction\n",
    "\n",
    "Atmospheric correction schemes work by first inferring atmospheric composition (AOT and TCWV mostly), and subtracting their effect. Following [Gorroño et al (2024)](https://doi.org/XXXXX), we will assume an imperfect atmospheric composition estimation, with quantified errors in AOT and TCWV. Proper atmospheric correction schemes, such as [SIAC](https://doi.org/XXXX) do provide a per pixel uncertainty. \n",
    "\n",
    "We will sample from the uncertain AOT and TCWV estimates and generate a set of corrected surface reflectances (an *ensemble*) that we can use to calculate uncertainty statistics.\n",
    "\n",
    "### Invert the RT model\n",
    "\n",
    "The model inversion is done using a simple Metropolis-Hastings MCMC sampler. This takes forever, but is quite a juicy tool that allows you to explore all the assumptions. The inversion sets up a log-likelihood, where we assume that the surface reflectance is corrupted by additive zero mean Gaussian noise. This Gaussian noise has a covariance structure given by the sum of the uncertainty of the atmospheric correction ensemble and the (white) thermal noise.\n",
    "\n",
    "We can complement the log-likelihood with different prior assumptions, from the very naive, to the more sophisticated. The naive assumption is just a uniform distribution for all parameters (so parameter boundaries), and the more realistic priors are derived from the archetype work of [Yin et al (2024)]() for wheat canopies. These include a mean vector and associated covariance matrices for a:\n",
    "* generic wheat crop\n",
    "* early season crop\n",
    "* mid season crop\n",
    "* late season crop"
   ]
  },
  {
   "cell_type": "code",
   "execution_count": 1,
   "id": "4428c90b-f78d-4f35-a6dc-3b1abe095950",
   "metadata": {},
   "outputs": [],
   "source": [
    "%load_ext autoreload\n",
    "%autoreload 2\n",
    "from pangeos_uq.param_retrieval_gui import create_prosail_gui"
   ]
  },
  {
   "cell_type": "code",
   "execution_count": null,
   "id": "6f9c8a82",
   "metadata": {},
   "outputs": [
    {
     "data": {
      "application/vnd.jupyter.widget-view+json": {
       "model_id": "6b5ee02173b543148684367b64f75bb2",
       "version_major": 2,
       "version_minor": 0
      },
      "text/plain": [
       "VBox(children=(Output(), HBox(children=(VBox(children=(FloatSlider(value=2.0, description='N', max=3.0, min=1.…"
      ]
     },
     "metadata": {},
     "output_type": "display_data"
    },
    {
     "name": "stdout",
     "output_type": "stream",
     "text": [
      "atmospheric_parameters(LUT=<pangeos_uq.sixs_lut.LUTQuery object at 0x7aa108687bd0>, AOT=0.1513561248436208, TCWV=5.050000000000001, AOT_unc=0.04551179505629651, TCWV_unc=1.1800000000000002)\n"
     ]
    },
    {
     "name": "stderr",
     "output_type": "stream",
     "text": [
      "Sampling: 100%|██████████| 50000/50000 [03:24<00:00, 244.27it/s]\n"
     ]
    },
    {
     "name": "stdout",
     "output_type": "stream",
     "text": [
      "Saved posterior samples to 2024-09-23T22:12:39.620216_posterior_samples.npz\n"
     ]
    }
   ],
   "source": [
    "# Define the function to run the simulation\n",
    "\n",
    "\n",
    "\n",
    "boundaries_example = {\n",
    "    \"N\": (1.0, 3.0),\n",
    "    \"LAI\": (0.1, 8.0),\n",
    "    \"ALA\": (0.0, 90.0),\n",
    "    \"Cab\": (0.0, 120.0),\n",
    "    \"Cw\": (0.0, 0.06),\n",
    "    \"Cm\": (0.0, 0.02),\n",
    "    \"Cbrown\": (0.0, 1.0),\n",
    "    \"psoil\": (0.0, 1.0),\n",
    "    \"rsoil\": (0.0, 1.0),\n",
    "    \"sza\": (0.0, 90.0),\n",
    "    \"vza\": (0.0, 90.0),\n",
    "    \"raa\": (0.0, 180.0),\n",
    "    \"AOT\": (0.01, 2.0),\n",
    "    \"TCWV\": (0.1, 10.0),\n",
    "}\n",
    "\n",
    "create_prosail_gui(boundaries_example)"
   ]
  },
  {
   "cell_type": "code",
   "execution_count": null,
   "id": "eb6b6626",
   "metadata": {},
   "outputs": [],
   "source": []
  },
  {
   "cell_type": "markdown",
   "id": "9c604f33",
   "metadata": {},
   "source": [
    "<a rel=\"license\" href=\"http://creativecommons.org/licenses/by-nc/4.0/\"><img alt=\"Creative Commons Licence\" style=\"border-width:0\" src=\"https://i.creativecommons.org/l/by-nc/4.0/88x31.png\" /></a><br />This work is licensed under a <a rel=\"license\" href=\"http://creativecommons.org/licenses/by-nc/4.0/\">Creative Commons Attribution-NonCommercial 4.0 International License</a>."
   ]
  },
  {
   "cell_type": "markdown",
   "id": "81642f57",
   "metadata": {},
   "source": []
  }
 ],
 "metadata": {
  "kernelspec": {
   "display_name": "Python 3 (ipykernel)",
   "language": "python",
   "name": "python3"
  },
  "language_info": {
   "codemirror_mode": {
    "name": "ipython",
    "version": 3
   },
   "file_extension": ".py",
   "mimetype": "text/x-python",
   "name": "python",
   "nbconvert_exporter": "python",
   "pygments_lexer": "ipython3",
   "version": "3.11.8"
  }
 },
 "nbformat": 4,
 "nbformat_minor": 5
}
