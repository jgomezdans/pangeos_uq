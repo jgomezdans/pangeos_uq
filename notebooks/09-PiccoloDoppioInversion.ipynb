{
 "cells": [
  {
   "cell_type": "markdown",
   "metadata": {},
   "source": [
    "<div style=\"float:right\">\n",
    "    <table>\n",
    "    <tr>\n",
    "        <td> <img src=\"../figs/pangeos-small-1.png\" alt=\"PANGEOS\" style=\"width:200px;height:45px;\"/> \n",
    "        <td> <img src=\"../figs/kcl_logo.png\" alt=\"King's College London\" style=\"width:54px;height:40px;\"/> \n",
    "        <td> <img src=\"../figs/nceo_logo.png\" alt=\"NCEO\" style=\"width:200px;height:40px;\"/> \n",
    "        <td> <img src=\"../figs/multiply_logo.png\" alt=\"H2020 Multiply\" style=\"width:40px;height:40px;\"/>\n",
    "    </tr>\n",
    "    </table>\n",
    "</div>\n",
    "&nbsp;\n",
    "\n"
   ]
  },
  {
   "cell_type": "markdown",
   "metadata": {},
   "source": [
    "\n",
    "\n",
    "# Inverting Piccolo Doppio spectra using PROSAIL\n",
    "\n",
    "\n",
    "The idea behind this practical is to allow you to invert reflectance data (plus associated uncertainty) using the PROSAIL model. \n"
   ]
  },
  {
   "cell_type": "code",
   "execution_count": 33,
   "metadata": {},
   "outputs": [
    {
     "name": "stdout",
     "output_type": "stream",
     "text": [
      "The autoreload extension is already loaded. To reload it, use:\n",
      "  %reload_ext autoreload\n"
     ]
    }
   ],
   "source": [
    "%load_ext autoreload\n",
    "%autoreload 2\n",
    "import numpy as np\n",
    "import pandas as pd\n",
    "from pangeos_uq.param_retrieval import BiophysicalRetrievalInSitu\n",
    "from pangeos_uq.param_retrieval import get_priors\n",
    "import matplotlib.pyplot as plt\n",
    "import seaborn as sns\n",
    "priors = get_priors()"
   ]
  },
  {
   "cell_type": "markdown",
   "metadata": {},
   "source": [
    "We have a CSV file that contains data on reflectance and uncertainty ($\\sigma$ per wavelength:"
   ]
  },
  {
   "cell_type": "code",
   "execution_count": 4,
   "metadata": {},
   "outputs": [
    {
     "data": {
      "text/html": [
       "<div>\n",
       "<style scoped>\n",
       "    .dataframe tbody tr th:only-of-type {\n",
       "        vertical-align: middle;\n",
       "    }\n",
       "\n",
       "    .dataframe tbody tr th {\n",
       "        vertical-align: top;\n",
       "    }\n",
       "\n",
       "    .dataframe thead th {\n",
       "        text-align: right;\n",
       "    }\n",
       "</style>\n",
       "<table border=\"1\" class=\"dataframe\">\n",
       "  <thead>\n",
       "    <tr style=\"text-align: right;\">\n",
       "      <th></th>\n",
       "      <th>wl</th>\n",
       "      <th>refl</th>\n",
       "      <th>refl_u</th>\n",
       "    </tr>\n",
       "  </thead>\n",
       "  <tbody>\n",
       "    <tr>\n",
       "      <th>0</th>\n",
       "      <td>401.82374</td>\n",
       "      <td>0.026258</td>\n",
       "      <td>0.000949</td>\n",
       "    </tr>\n",
       "    <tr>\n",
       "      <th>1</th>\n",
       "      <td>402.61047</td>\n",
       "      <td>0.026386</td>\n",
       "      <td>0.000954</td>\n",
       "    </tr>\n",
       "    <tr>\n",
       "      <th>2</th>\n",
       "      <td>403.39714</td>\n",
       "      <td>0.026713</td>\n",
       "      <td>0.000966</td>\n",
       "    </tr>\n",
       "    <tr>\n",
       "      <th>3</th>\n",
       "      <td>404.18373</td>\n",
       "      <td>0.026888</td>\n",
       "      <td>0.000972</td>\n",
       "    </tr>\n",
       "    <tr>\n",
       "      <th>4</th>\n",
       "      <td>404.97025</td>\n",
       "      <td>0.027230</td>\n",
       "      <td>0.000984</td>\n",
       "    </tr>\n",
       "  </tbody>\n",
       "</table>\n",
       "</div>"
      ],
      "text/plain": [
       "          wl      refl    refl_u\n",
       "0  401.82374  0.026258  0.000949\n",
       "1  402.61047  0.026386  0.000954\n",
       "2  403.39714  0.026713  0.000966\n",
       "3  404.18373  0.026888  0.000972\n",
       "4  404.97025  0.027230  0.000984"
      ]
     },
     "execution_count": 4,
     "metadata": {},
     "output_type": "execute_result"
    }
   ],
   "source": [
    "df = pd.read_csv(\"../src/pangeos_uq/data/piccolo_refl.csv\")\n",
    "df.head()"
   ]
  },
  {
   "cell_type": "markdown",
   "metadata": {},
   "source": [
    "Let's plot the data and uncertainty..."
   ]
  },
  {
   "cell_type": "code",
   "execution_count": 21,
   "metadata": {},
   "outputs": [
    {
     "data": {
      "image/png": "[encoded data removed]",
      "text/plain": [
       "<Figure size 500x300 with 1 Axes>"
      ]
     },
     "metadata": {},
     "output_type": "display_data"
    }
   ],
   "source": [
    "plt.figure(figsize=(5, 3))\n",
    "plt.plot(df.wl, df.refl, \"-\")\n",
    "plt.fill_between(\n",
    "    df.wl,\n",
    "    df.refl - 1.95 * df.refl_u,\n",
    "    df.refl + 1.95 * df.refl_u,\n",
    "    facecolor=\"0.8\",\n",
    ")\n",
    "plt.xlabel(\"Wavelength [nm]\")\n",
    "plt.ylabel(\"Reflectance\");"
   ]
  },
  {
   "cell_type": "code",
   "execution_count": 30,
   "metadata": {},
   "outputs": [],
   "source": [
    "# Create the array representing the 400 to 2500 nm range\n",
    "nm_range = np.linspace(400, 2500, 2101)\n",
    "wvs = df.wl.to_numpy()\n",
    "# Create the N x 2101 SRF array\n",
    "srf = np.zeros((len(wvs), 2101))\n",
    "\n",
    "# Find the closest index for each wavelength and set that position to 1\n",
    "closest_indices = np.abs(nm_range[:, None] - wvs).argmin(axis=0)\n",
    "srf[np.arange(len(wvs)), closest_indices] = 1"
   ]
  },
  {
   "cell_type": "markdown",
   "metadata": {
    "vscode": {
     "languageId": "bat"
    }
   },
   "source": [
    "priors.keys()"
   ]
  },
  {
   "cell_type": "code",
   "execution_count": 36,
   "metadata": {},
   "outputs": [],
   "source": [
    "\n",
    "\n",
    "retrieval = BiophysicalRetrievalInSitu(df.refl.to_numpy(),\n",
    "                                       df.refl_u.to_numpy(),\n",
    "                                       srf=srf,\n",
    "                                       sza=30.0,\n",
    "                                       vza=0,\n",
    "                                       raa=0,\n",
    "                                       prior=priors[\"uniform\"],\n",
    "                                       wvs=wvs,\n",
    "                                       )"
   ]
  },
  {
   "cell_type": "code",
   "execution_count": 39,
   "metadata": {},
   "outputs": [
    {
     "name": "stderr",
     "output_type": "stream",
     "text": [
      "Sampling:   0%|          | 0/20000 [00:00<?, ?it/s]"
     ]
    },
    {
     "name": "stderr",
     "output_type": "stream",
     "text": [
      "Sampling:   4%|▍         | 822/20000 [00:38<20:11, 15.83it/s]"
     ]
    }
   ],
   "source": [
    "retrieval.run_mcmc(n_samples=20_000)\n",
    "retrieval.posterior_samples\n",
    "\n",
    "PARAMETERS_NAME = ['N', 'cab', 'cm', 'cw', 'lai', 'ala', 'cbrown',\n",
    "                   \"psoil\", \"rsoil\"]\n",
    "posterior_df = pd.DataFrame(retrieval.posterior_samples,\n",
    "                            columns=PARAMETERS_NAME)\n",
    "\n",
    "# fig, axes = plt.subplots(n_params, n_params, figsize=(12, 12))\n",
    "g = sns.kdeplot(\n",
    "    posterior_df.iloc[-2000::5, :],\n",
    "    kind=\"hist\",\n",
    "    diag_kind=\"hist\",\n",
    ")\n"
   ]
  },
  {
   "cell_type": "code",
   "execution_count": 38,
   "metadata": {},
   "outputs": [],
   "source": []
  },
  {
   "cell_type": "code",
   "execution_count": null,
   "metadata": {},
   "outputs": [],
   "source": []
  }
 ],
 "metadata": {
  "kernelspec": {
   "display_name": "py311",
   "language": "python",
   "name": "python3"
  },
  "language_info": {
   "codemirror_mode": {
    "name": "ipython",
    "version": 3
   },
   "file_extension": ".py",
   "mimetype": "text/x-python",
   "name": "python",
   "nbconvert_exporter": "python",
   "pygments_lexer": "ipython3",
   "version": "3.11.8"
  }
 },
 "nbformat": 4,
 "nbformat_minor": 2
}
